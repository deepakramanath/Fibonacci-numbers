{
 "cells": [
  {
   "cell_type": "markdown",
   "metadata": {},
   "source": [
    "# Introduction"
   ]
  },
  {
   "cell_type": "markdown",
   "metadata": {},
   "source": [
    "Here, we write a small Python program to obtain a Fibonacci Sequence for a given number, `n`. In this sequence, every consecutive number is a sum of previous two numbers. That is, the series should have `1, 2, 3, 5, 8, 13, 21, 34, 55` for `n = 10`. This sequence can continue as the value of `n` increases. In the Fibonacci Sequence, the ratio between any successive numbers is nearly constant which is equal to a value of `1.618`. This ratio is often referred to as the **Golden Ratio** and bigger the Fibonacci number, closer is the approximation. Detailed mathematical explanation regarding Fibonacci Sequence can be found [here](https://en.wikipedia.org/wiki/Fibonacci_number)."
   ]
  },
  {
   "cell_type": "code",
   "execution_count": 55,
   "metadata": {
    "collapsed": true
   },
   "outputs": [],
   "source": [
    "\"\"\"\n",
    "Usage: Fibonacci-numbers.py\n",
    "\n",
    "Generates a Fibonacci sequence up to the given number (n)\n",
    "At prompt, enter only numbers\n",
    "\n",
    "Options\n",
    "-------\n",
    "\n",
    "-h or help\t\tDisplays this message\n",
    "\n",
    "\"\"\"\n",
    "\n",
    "import sys\n",
    "\n",
    "arg = sys.argv"
   ]
  },
  {
   "cell_type": "markdown",
   "metadata": {},
   "source": [
    "Initially, we have a display message followed by importing the `sys` module. We then store the value of the first argument that is passed as we would require this for printing the help message."
   ]
  },
  {
   "cell_type": "code",
   "execution_count": 56,
   "metadata": {
    "collapsed": true
   },
   "outputs": [],
   "source": [
    "def fibonacci(n):\n",
    "\tglobal Fn, Fn_1, count\n",
    "\tFn = 1.0\n",
    "\tFn_1 = 1.0\n",
    "\tcount = 2\n",
    "\twhile True:\n",
    "\t\tcount = count + 1\n",
    "\t\tFn = Fn + Fn_1\n",
    "\t\tFn_1 = Fn - Fn_1\n",
    "\t\tgR = Fn/Fn_1\n",
    "\t\tFibonacciSequence.append(Fn)\n",
    "\t\tgoldenRatio.append(gR)\n",
    "\t\tif count == n:\n",
    "\t\t\tbreak"
   ]
  },
  {
   "cell_type": "markdown",
   "metadata": {},
   "source": [
    "We now define a `function` and initialise the few variables. To start the Fibonacci sequence, we have to initialise with $F_n$ and $F_{n-1}$ values and these are done with a value of `1` and `1` respectively. Subsequently, we calculate the Fibonacci number using the relation `Fn = Fn + Fn_1`, where the previous ($F_{n-1}$) is calculated using the `Fn_1 = Fn - Fn_1`. The **Golden Ratio** is simply the ratio between $Fn/F_{n-1}$. We finally append both the Fibonacci and golden ratio numbers so that we could display a sequence."
   ]
  },
  {
   "cell_type": "code",
   "execution_count": 57,
   "metadata": {
    "collapsed": false
   },
   "outputs": [],
   "source": [
    "#while len(arg) > 1:\n",
    "#\tprint(__doc__)\n",
    "#\tsys.exit(0)"
   ]
  },
  {
   "cell_type": "markdown",
   "metadata": {},
   "source": [
    "The above checks for any argument given along with the main Python script to display the help messages. Just for the sake of Ipython Notebook, these three lines have been commented, else Ipython tries to exit and an exception is raised."
   ]
  },
  {
   "cell_type": "code",
   "execution_count": 58,
   "metadata": {
    "collapsed": false
   },
   "outputs": [
    {
     "name": "stdout",
     "output_type": "stream",
     "text": [
      "Enter the number, n to obtain the Fibonacci Sequence: 100\n",
      "You entered number is: 100.0\n",
      "\n"
     ]
    }
   ],
   "source": [
    "while True:\n",
    "\tnumber = raw_input(\"Enter the number, n to obtain the Fibonacci Sequence: \")\n",
    "\ttry:\n",
    "\t\tnum = float(number)\n",
    "\t\tif num > 100:\n",
    "\t\t\tprint \"Enter a value less or equal to 100\"\n",
    "\t\t\tcontinue\n",
    "\t\tprint \"Your entered number is: %.1f\\n\" % (num)\n",
    "\t\tbreak\n",
    "\texcept:\n",
    "\t\tprint \"Error:Enter only numbers\"\n",
    "\t\tcontinue"
   ]
  },
  {
   "cell_type": "markdown",
   "metadata": {},
   "source": [
    "With this `while` loop, we basically ask the user to enter the value of `n` to obtain the Fibonacci Sequence and subsequently check whether the entered number is a numerical value or a string. If the value happens to be a string, the `while` loop makes sure the user is repeatedly asked until a numerical value is entered. Also, to note is that a hard limit is set to `n = 100`, else the Fibonacci number becomes excessively large."
   ]
  },
  {
   "cell_type": "code",
   "execution_count": 59,
   "metadata": {
    "collapsed": true
   },
   "outputs": [],
   "source": [
    "FibonacciSequence = [1.0]\n",
    "goldenRatio = []\n",
    "\n",
    "fibonacci(num)"
   ]
  },
  {
   "cell_type": "markdown",
   "metadata": {},
   "source": [
    "We now initialise the lists that would be used to store the Fibonacci and golden ratio numbers. This is followed by calling the function. Finally, we print the sequence as follows:"
   ]
  },
  {
   "cell_type": "code",
   "execution_count": 60,
   "metadata": {
    "collapsed": false
   },
   "outputs": [
    {
     "name": "stdout",
     "output_type": "stream",
     "text": [
      "Fibonacci Sequence for the value n = 100.0\n",
      "\n",
      "[1.0, 2.0, 3.0, 5.0, 8.0, 13.0, 21.0, 34.0, 55.0, 89.0, 144.0, 233.0, 377.0, 610.0, 987.0, 1597.0, 2584.0, 4181.0, 6765.0, 10946.0, 17711.0, 28657.0, 46368.0, 75025.0, 121393.0, 196418.0, 317811.0, 514229.0, 832040.0, 1346269.0, 2178309.0, 3524578.0, 5702887.0, 9227465.0, 14930352.0, 24157817.0, 39088169.0, 63245986.0, 102334155.0, 165580141.0, 267914296.0, 433494437.0, 701408733.0, 1134903170.0, 1836311903.0, 2971215073.0, 4807526976.0, 7778742049.0, 12586269025.0, 20365011074.0, 32951280099.0, 53316291173.0, 86267571272.0, 139583862445.0, 225851433717.0, 365435296162.0, 591286729879.0, 956722026041.0, 1548008755920.0, 2504730781961.0, 4052739537881.0, 6557470319842.0, 10610209857723.0, 17167680177565.0, 27777890035288.0, 44945570212853.0, 72723460248141.0, 117669030460994.0, 190392490709135.0, 308061521170129.0, 498454011879264.0, 806515533049393.0, 1304969544928657.0, 2111485077978050.0, 3416454622906707.0, 5527939700884757.0, 8944394323791464.0, 1.447233402467622e+16, 2.3416728348467684e+16, 3.78890623731439e+16, 6.130579072161158e+16, 9.919485309475549e+16, 1.6050064381636707e+17, 2.5969549691112256e+17, 4.2019614072748966e+17, 6.798916376386122e+17, 1.1000877783661019e+18, 1.779979416004714e+18, 2.880067194370816e+18, 4.66004661037553e+18, 7.540113804746346e+18, 1.2200160415121877e+19, 1.9740274219868226e+19, 3.1940434634990105e+19, 5.1680708854858334e+19, 8.362114348984844e+19, 1.3530185234470678e+20, 2.189229958345552e+20, 3.54224848179262e+20]\n",
      "\n",
      "Golden Ratio\n",
      "\n",
      "[2.0, 1.5, 1.6666666666666667, 1.6, 1.625, 1.6153846153846154, 1.619047619047619, 1.6176470588235294, 1.6181818181818182, 1.6179775280898876, 1.6180555555555556, 1.6180257510729614, 1.6180371352785146, 1.618032786885246, 1.618034447821682, 1.6180338134001253, 1.618034055727554, 1.6180339631667064, 1.6180339985218033, 1.618033985017358, 1.6180339901755971, 1.618033988205325, 1.618033988957902, 1.6180339886704431, 1.6180339887802426, 1.618033988738303, 1.6180339887543225, 1.6180339887482036, 1.6180339887505408, 1.6180339887496482, 1.618033988749989, 1.618033988749859, 1.6180339887499087, 1.6180339887498896, 1.618033988749897, 1.618033988749894, 1.6180339887498951, 1.6180339887498947, 1.618033988749895, 1.618033988749895, 1.618033988749895, 1.618033988749895, 1.618033988749895, 1.618033988749895, 1.618033988749895, 1.618033988749895, 1.618033988749895, 1.618033988749895, 1.618033988749895, 1.618033988749895, 1.618033988749895, 1.618033988749895, 1.618033988749895, 1.618033988749895, 1.618033988749895, 1.618033988749895, 1.618033988749895, 1.618033988749895, 1.618033988749895, 1.618033988749895, 1.618033988749895, 1.618033988749895, 1.618033988749895, 1.618033988749895, 1.618033988749895, 1.618033988749895, 1.618033988749895, 1.618033988749895, 1.618033988749895, 1.618033988749895, 1.618033988749895, 1.618033988749895, 1.618033988749895, 1.618033988749895, 1.618033988749895, 1.618033988749895, 1.618033988749895, 1.618033988749895, 1.618033988749895, 1.6180339887498947, 1.618033988749895, 1.618033988749895, 1.618033988749895, 1.6180339887498947, 1.618033988749895, 1.618033988749895, 1.618033988749895, 1.6180339887498947, 1.618033988749895, 1.618033988749895, 1.618033988749895, 1.6180339887498947, 1.618033988749895, 1.6180339887498947, 1.618033988749895, 1.618033988749895, 1.618033988749895, 1.6180339887498947]\n"
     ]
    }
   ],
   "source": [
    "print \"Fibonacci Sequence for the value n = %.1f\\n\" %(num)\n",
    "print FibonacciSequence\n",
    "print \"\\nGolden Ratio\\n\"\n",
    "print goldenRatio"
   ]
  },
  {
   "cell_type": "markdown",
   "metadata": {},
   "source": []
  }
 ],
 "metadata": {
  "kernelspec": {
   "display_name": "Python 2",
   "language": "python",
   "name": "python2"
  },
  "language_info": {
   "codemirror_mode": {
    "name": "ipython",
    "version": 2
   },
   "file_extension": ".py",
   "mimetype": "text/x-python",
   "name": "python",
   "nbconvert_exporter": "python",
   "pygments_lexer": "ipython2",
   "version": "2.7.10"
  }
 },
 "nbformat": 4,
 "nbformat_minor": 0
}
